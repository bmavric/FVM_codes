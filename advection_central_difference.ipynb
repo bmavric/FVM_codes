{
 "cells": [
  {
   "cell_type": "code",
   "execution_count": 1,
   "metadata": {},
   "outputs": [],
   "source": [
    "# -*- coding: utf-8 -*-\n",
    "\n",
    "#advection_central_difference, a demonstration of FVM for transport equation in 1D\n",
    "#Copyright (C) 2020  Boštjan Mavrič, Matjaž Zadnik\n",
    "#\n",
    "#This program is free software: you can redistribute it and/or modify\n",
    "#it under the terms of the GNU General Public License as published by\n",
    "#the Free Software Foundation, either version 3 of the License, or\n",
    "#(at your option) any later version.\n",
    "#\n",
    "#This program is distributed in the hope that it will be useful,\n",
    "#but WITHOUT ANY WARRANTY; without even the implied warranty of\n",
    "#MERCHANTABILITY or FITNESS FOR A PARTICULAR PURPOSE.  See the\n",
    "#GNU General Public License for more details.\n",
    "#\n",
    "#You should have received a copy of the GNU General Public License\n",
    "#along with this program.  If not, see <http://www.gnu.org/licenses/>.\n",
    "\n",
    "from __future__ import division\n",
    "import matplotlib.pyplot as plt\n",
    "import numpy as np\n",
    "import ipywidgets as widgets\n",
    "from ipywidgets import interact, interactive, fixed, interact_manual\n",
    "\n",
    "\n",
    "\n",
    "def TDMAsolver(a, b, c, d):\n",
    "        '''\n",
    "        TDMA solver, a b c d can be NumPy array type or Python list type.\n",
    "        refer to http://en.wikipedia.org/wiki/Tridiagonal_matrix_algorithm\n",
    "        and to http://www.cfd-online.com/Wiki/Tridiagonal_matrix_algorithm_-_TDMA_(Thomas_algorithm)\n",
    "        '''\n",
    "        nf = len(d) # number of equations\n",
    "        ac, bc, cc, dc = map(np.array, (a, b, c, d)) # copy arrays\n",
    "        for it in range(1, nf):\n",
    "            mc = ac[it-1]/bc[it-1]\n",
    "            bc[it] = bc[it] - mc*cc[it-1] \n",
    "            dc[it] = dc[it] - mc*dc[it-1]\n",
    "\n",
    "        xc = bc\n",
    "        xc[-1] = dc[-1]/bc[-1]\n",
    "\n",
    "        for il in range(nf-2, -1, -1):\n",
    "            xc[il] = (dc[il]-cc[il]*xc[il+1])/bc[il]\n",
    "\n",
    "        return xc\n",
    "\n",
    "def CD_advection(N, u):\n",
    "    # Transport v 1D z advekcijo in difuzijo \n",
    "\n",
    "    # Robni pogoji\n",
    "    fiA=1 # pri x=0\n",
    "    fiB=0 # pri x=L\n",
    "\n",
    "    # Snovni parametri\n",
    "    L=1 # [m] dolžina odseka\n",
    "    rho=1 # [kg/m^3] gostota transportirane količine\n",
    "    #u=20 # [m/s] hitrost tekočine\n",
    "    Gama=0.1 # [kg/ms] posplošen koeficient prevodnosti\n",
    "\n",
    "    # Diskretizacija\n",
    "    #N=50 # število mrežnih točk\n",
    "    dx=L/N # [m] krajevni korak\n",
    "\n",
    "\n",
    "    # mrežne točke od 2 do N-1\n",
    "    F=rho*u\n",
    "    D=Gama/dx \n",
    "    \n",
    "    aE=D-F/2\n",
    "    aW=D+F/2\n",
    "    aP=aE+aW\n",
    "    Su=0\n",
    "\n",
    "    # Matrika sistema brez upoštevanja robnih pogojev\n",
    "    d=aP*np.ones(N) # diagonala\n",
    "    s=-aW*np.ones(N-1) # spodnja obdiagonala\n",
    "    z=-aE*np.ones(N-1) # zgornja obdiagonala\n",
    "    b=Su*np.ones(N) # vektor vrednosti izvorov\n",
    "\n",
    "\n",
    "    # levi rob (točka 1)\n",
    "    aE=D-F/2\n",
    "    aW=0\n",
    "    Sp=-(2*D+F)\n",
    "    Su=(2*D+F)*fiA\n",
    "    aP=aE+aW-Sp\n",
    "\n",
    "    d[0]=aP\n",
    "    b[0]=Su\n",
    "\n",
    "    # Desni rob (točka N)\n",
    "    aE=0\n",
    "    aW=D+F/2\n",
    "    Sp=-(2*D-F)\n",
    "    Su=(2*D-F)*fiB\n",
    "    aP=aE+aW-Sp\n",
    "\n",
    "    d[N-1]=aP\n",
    "    b[N-1]=Su\n",
    "\n",
    "    # Rešimo sistem enačb\n",
    "    fi=TDMAsolver(s, d, z, b)\n",
    "\n",
    "    # krajevna mreža\n",
    "    x_tab=np.array([dx*i for i in range(N)])\n",
    "    x_tab=x_tab+dx/2\n",
    "    \n",
    "    def analiticFi(x):\n",
    "        'Točna rešitev'\n",
    "        return fiA+(fiB-fiA)*(np.exp(rho*u*x/Gama)-1)/(np.exp(rho*u*L/Gama)-1)\n",
    "\n",
    "    # Graf T profila    \n",
    "    plt.plot(x_tab,fi,'bo',label='numericno')\n",
    "    x_tab1=np.linspace(0,N*dx,1000)\n",
    "    plt.plot(x_tab1,analiticFi(x_tab1),'b-',label='tocno')\n",
    "    plt.xlim(0,N*dx)\n",
    "    plt.xlabel('razdalja $x$ (m)')\n",
    "    plt.ylabel('$\\Phi$ ')   \n",
    "    plt.legend(loc='best')\n",
    "    plt.title('1D profil kolicine $\\Phi$') \n",
    "    plt.show()\n",
    "    \n",
    "    display(\"F/D:\", np.abs(F/D))"
   ]
  },
  {
   "cell_type": "code",
   "execution_count": 2,
   "metadata": {
    "scrolled": false
   },
   "outputs": [
    {
     "data": {
      "image/png": "[encoded data removed]",
      "text/plain": [
       "<Figure size 432x288 with 1 Axes>"
      ]
     },
     "metadata": {
      "needs_background": "light"
     },
     "output_type": "display_data"
    },
    {
     "data": {
      "text/plain": [
       "'F/D:'"
      ]
     },
     "metadata": {},
     "output_type": "display_data"
    },
    {
     "data": {
      "text/plain": [
       "0.2"
      ]
     },
     "metadata": {},
     "output_type": "display_data"
    }
   ],
   "source": [
    "N_slider = widgets.IntSlider(min=5, max=50, step=5, value=5)\n",
    "u_slider = widgets.FloatSlider(min=-10, max=10, step=0.5, value=0.1)\n",
    "\n",
    "w=widgets.interactive(CD_advection,\n",
    "                      N=N_slider, \n",
    "                      u=u_slider\n",
    "                     )\n",
    "\n",
    "display(w)"
   ]
  },
  {
   "cell_type": "code",
   "execution_count": null,
   "metadata": {},
   "outputs": [],
   "source": []
  },
  {
   "cell_type": "code",
   "execution_count": null,
   "metadata": {},
   "outputs": [],
   "source": []
  }
 ],
 "metadata": {
  "kernelspec": {
   "display_name": "Python 3",
   "language": "python",
   "name": "python3"
  },
  "language_info": {
   "codemirror_mode": {
    "name": "ipython",
    "version": 3
   },
   "file_extension": ".py",
   "mimetype": "text/x-python",
   "name": "python",
   "nbconvert_exporter": "python",
   "pygments_lexer": "ipython3",
   "version": "3.5.2"
  }
 },
 "nbformat": 4,
 "nbformat_minor": 2
}
