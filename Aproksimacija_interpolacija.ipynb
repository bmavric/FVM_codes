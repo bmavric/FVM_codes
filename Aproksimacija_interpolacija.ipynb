{
 "cells": [
  {
   "cell_type": "markdown",
   "metadata": {},
   "source": [
    "<table>\n",
    "    <tr>\n",
    "        <td class=\"bTop\" colspan=\"3\">\n",
    "        <img src=\"logo_UL_FME.png\" height=\"200\" width=\"200\">\n",
    "        </td>\n",
    "        <td>       \n",
    "        <img src=\"LFDT_logo.jpg\" height=\"200\" width=\"200\">\n",
    "        </td>\n",
    "    </tr>                                           \n",
    "</table>\n",
    "\n",
    "# Implementacija interpolacijskih in aproksimacijskih metod /   \n",
    "<font color='gray'>Implementation of interpolation and approximation methods</font>"
   ]
  },
  {
   "cell_type": "code",
   "execution_count": null,
   "metadata": {
    "scrolled": false
   },
   "outputs": [],
   "source": [
    "from __future__ import print_function\n",
    "from ipywidgets import interact, interactive, fixed, interact_manual\n",
    "import ipywidgets as widgets\n",
    "import numpy as np\n",
    "import matplotlib.pyplot as plt\n",
    "from mpl_toolkits import mplot3d\n",
    "\n",
    "np.warnings.filterwarnings('error', category=np.VisibleDeprecationWarning)"
   ]
  },
  {
   "cell_type": "markdown",
   "metadata": {},
   "source": [
    "## Motivacija / <font color = \"gray\">Motivation</font>\n",
    "\n",
    "V devetih točkah na premici imamo znane podatke o vrednosti veličine $f_n$, želimo pridobiti vrednosti na območju med točkami. V prvem primeru nas najbolj zanimajo vrednosti $f$ med točkami, gradienti niso pomembni. Med tem ko nas v drugem primeru nas najbolj zanimajo gradienti spremenljivke $f$ najprej po celotni domeni, nato posebej v okolici točke $\\overline{\\textbf p}$, na koncu pa želimo karseda najboljši približek.\n",
    "\n",
    "Točke z znanimi vrednostmi: $\\textbf {p}_n= (1),(2),(3),(4),(5),(6),(7),(8),(9)$.\n",
    "\n",
    "Poznane vrednosti veličine: $f_n = 1, 2, 0.5, 5, 1, 0, -1, 3, -4$.\n",
    "\n",
    "<p>\n",
    "<font color = \"gray\">\n",
    "Data $f_n$ are given on 9 points in a line. We wish to obtain the function values in the area between the points. First, we are interested in the methods that reproduce only the function values and then the methods that can also determine the gradients of the function throughout the domain and finally near the point $\\overline{\\textbf p}$, trying to obtain the best possible approximation.\n",
    "    \n",
    "The values are given at points: $\\textbf {p}_n= (1),(2),(3),(4),(5),(6),(7),(8),(9)$.\n",
    "\n",
    "The known values are: $f_n = 1, 2, 0.5, 5, 1, 0, -1, 3, -4$.\n",
    "</font>\n",
    "</p>"
   ]
  },
  {
   "cell_type": "code",
   "execution_count": null,
   "metadata": {
    "scrolled": false
   },
   "outputs": [],
   "source": [
    "pn = np.asarray([1,2,3,4,5,6,7,8,9])\n",
    "fn = np.asarray([[1,2,0.5,5,1,0,-1,3,-4]]) \n",
    "fn = np.array([np.sin(pn)])\n",
    "#fn = np.array([pn**14+pn**13+pn**12+pn**11+pn**10+pn**9+pn**8+pn**7+pn**6+pn**5+pn**4+pn**3+pn**2+pn**1+pn**0])"
   ]
  },
  {
   "cell_type": "markdown",
   "metadata": {},
   "source": [
    "## Shepardova interpolacija / <font color = \"gray\">Shepard interpolation</font>\n",
    "<p1>\n",
    "Kadar nas zanimajo vrednosti spremenljivke $f$ med točkami, ne pa tudi gradienti, uporabimo Shepardovo interpolacijo. Najpreprostejša oblika kolokacije je Shepardova shema, ki ne zahteva reševanja sistema enačb. V tem primeru ima aproksimirana funkcija $f (\\textbf{p})$ tako obliko:\n",
    "\n",
    "$f(\\textbf{p})=\\frac{\\sum_{n=1}^{N}\\psi_n(\\textbf{p})f(\\textbf{p}_n)}{\\sum_{n=1}^{N}\\psi_n(\\textbf{p})}$,\n",
    "\n",
    "kjer so $\\psi_n$ oblikovne funkcije oblike $\\psi_n = |\\textbf{p}-\\textbf{p}_n|^{-\\mu}$. Število teh funkcij mora biti enako številu točk $\\textbf {p}_n$. Za koeficient $\\mu$ običajno vzamemo 2.\n",
    "</p1>\n",
    "\n",
    "<p2><font color = \"gray\">\n",
    "When we are only interested in values of variable $f$ between points and gradients are not important, we can use  Shepard interpolation. The simplest form of collocation is the Shepard scheme, which does not require solving equations. In this case the approximated function $f(\\textbf {p})$ has the following form:\n",
    "\n",
    "$f(\\textbf{p})=\\frac{\\sum_{n=1}^{N}\\psi_n(\\textbf{p})f(\\textbf{p}_n)}{\\sum_{n=1}^{N}\\psi_n(\\textbf{p})}$,\n",
    "\n",
    "where $\\psi_n$ trial functions are defined as $\\psi_n = |\\textbf{p}-\\textbf{p}_n|^{-\\mu}$. The number of this functions is equal to the number of points $\\textbf {p}_n$. Coefficient $\\mu$ is 2 for most cases.\n",
    "</font></p2>\n",
    "\n",
    "### Implementacija Shepardove interpolacije v kodi / <font color = \"gray\">Implementation of Shepard interpolation in code</font> "
   ]
  },
  {
   "cell_type": "code",
   "execution_count": null,
   "metadata": {
    "scrolled": false
   },
   "outputs": [],
   "source": [
    "def Shepard(p,pn,fn):\n",
    "    \"\"\"Funkcija interpolira vrednost v točki p s Shepardovo interpolacijo na podlagi vrednosti fn v točkah pn / \n",
    "    Function interpolates value in point p with Shepard interpolation using data fn from points pn.\"\"\"\n",
    "    stevec = 0 #inicializacija člena v števcu / init. of in numerator\n",
    "    imenovalec = 0 #inicializacija člena v imenovalcu / init. of in denominator\n",
    "    for i in range(len(pn)): #korakanje po točkah pn / marching through points pn\n",
    "        mu = 2\n",
    "        psi_n = ((p-pn[i])**2)**0.5 #definicija vrednosti oblikovne funkcije / definition of trial function value\n",
    "        if psi_n == 0: #v izogib deljenju z nič postavimo pogoj / to avoid dividing by zero, we itroduce condition\n",
    "            return fn[0,i] #izračun interpolirane vrednosti, če je p=pn / calc. of interpolated value, if p=pn\n",
    "        else:\n",
    "            stevec += psi_n**(-mu) * fn[0,i] #izračun števca / calc. of numerator\n",
    "            imenovalec += psi_n**(-mu) #izračun imenovalca / calc. of denumerator\n",
    "    return stevec / imenovalec #izračun interpolirane vrednosti / calc. of interpolated value"
   ]
  },
  {
   "cell_type": "code",
   "execution_count": null,
   "metadata": {
    "scrolled": false
   },
   "outputs": [],
   "source": [
    "#izris rezultatov / plotting the results\n",
    "x_points = np.linspace(0.9,9,1000)\n",
    "y_Shepard = np.array([])\n",
    "for i in range(len(x_points)):\n",
    "    y_Shepard = np.append(y_Shepard,Shepard(x_points[i],pn, fn))\n",
    "\n",
    "g1, = plt.plot(x_points,y_Shepard,\"-g\",label = 'Shepardova inteprolacija \\nShepard interpolation')\n",
    "g2, = plt.plot(pn,fn[0], \"o\",color='purple', label = \"Referenčne točke p_n(x) /\\nReference points p_n(x)\")\n",
    "title = plt.title('Shepardova interpolacija \\nShepard interpolation')\n",
    "legend = plt.legend(handles = [g2], bbox_to_anchor=(1.05, 1), loc='upper left')"
   ]
  },
  {
   "cell_type": "markdown",
   "metadata": {},
   "source": [
    "## Kolokacija s polinomskimi baznimi funkcijami  / <font color = \"gray\">Collocation with polynomial base functions</font> \n",
    "<p1>\n",
    "Naslednja kolokacijska shema je kolokacija s polinomskimi funkcijami. Tu je aproksimirana funkcija oblike\n",
    "$f(\\textbf{p}) = \\psi (\\textbf{p}) \\cdot \\textbf{c}$, kjer so $\\psi_n$ funkcije polinomskega baznega vektorja. \n",
    "\n",
    "Če je število funkcij $\\psi_n$ enako številu točk $\\textbf {p}_n$, potem lahko koeficiente $\\textbf{c}$ določimo z enačbo:\n",
    "\n",
    "$\\sum_{n=1}^{N} \\psi_n (\\textbf{p}_n) \\cdot c_n = \\textbf{f}_n$\n",
    "</p1>\n",
    "\n",
    "<p2><font color = \"gray\">\n",
    "Next collocation scheme is collocation with polynomial functions. The approximated function is defined as $f(\\textbf{p}) = \\psi (\\textbf{p}) \\cdot \\textbf{c}$, where $\\psi_n$ are functions from the polynomial base vector.\n",
    "\n",
    "If the number of this functions matches the number of points $\\textbf {p}_n$, then the vector of coefficients $\\textbf{c}$ can be determined through equation:\n",
    "\n",
    "$\\sum_{n=1}^{N} \\psi_n (\\textbf{p}_n) \\cdot c_n = \\textbf{f}_n$\n",
    "</font></p2>\n",
    "\n",
    "### Implementacija interpolacije s polinomskimi baznimi funkcijami v kodi  / <font color = \"gray\">Implementation of interpolation with polynomial basis functions in code</font> "
   ]
  },
  {
   "cell_type": "code",
   "execution_count": null,
   "metadata": {
    "scrolled": false
   },
   "outputs": [],
   "source": [
    "def interpolation(pn, fn):\n",
    "    \"\"\"Funkcija poda interpolirano funkcijo med točkami pn s kolokacijo s polinomskimi baznimi funkcijami na podlagi vrednosti fi v točkah pn / \n",
    "    Function gives interpolated function between points pn with collocation with polynomial base functions using data fn from points pn.\"\"\"\n",
    "    apr_fun = lambda x: np.asarray([1,x,x**2,x**3,x**4,x**5,x**6,x**7,x**8])\n",
    "    fn = fn[0] #poznana vrednost v točki z indeksom 0 / known value in pont index 0\n",
    "    i = 1\n",
    "    A = apr_fun(pn[0]) #incializacija matrike koef. s prvo vrstico / init. of matrix of coeff. with first row\n",
    "    b = fn #incializacija vektorja konstant s prvo vrstico / init. of vector of constants. with first row\n",
    "    while i < len(pn): #gradnja sistema enačb / building system of equations\n",
    "        A = np.vstack((A,apr_fun(pn[i])))\n",
    "        i += 1\n",
    "    c = np.linalg.solve(A,b) #reševanje sistema - dobimo vektor koeficientov c / solving of system - we get vector of coeff. c\n",
    "    #definicija interpolirane funkcije / definition of interoplated function\n",
    "    def fun(o):\n",
    "        return c[0] + c[1]*o + \\\n",
    "        c[2]*o**2 + c[3]*o**3 + \\\n",
    "            c[4]*o**4 + c[5]*o**5 + \\\n",
    "               c[6]*o**6 + c[7]*o**7 + \\\n",
    "                    c[8]*o**8\n",
    "    return fun"
   ]
  },
  {
   "cell_type": "code",
   "execution_count": null,
   "metadata": {
    "scrolled": false
   },
   "outputs": [],
   "source": [
    "#izris rezultatov / plotting the results\n",
    "x_points = np.linspace(0.9,9,1000)\n",
    "f1 = interpolation(pn, fn)\n",
    "fig = plt.figure(5)\n",
    "g1, = plt.plot(x_points,f1(x_points),\"-g\",label = 'Interpolacija \\n9 oblikovnih funkicij')\n",
    "g2, = plt.plot(pn,fn[0], \"o\",color='purple', label = \"Referenčne točke p_n(x) /\\nReference points p_n(x)\")\n",
    "title = plt.title('Interpolacija z 9 oblikovnimi funkcijami /\\n Interpolation with 9 trial functions')\n",
    "legend = plt.legend(handles = [g2], bbox_to_anchor=(1.05, 1), loc='upper left')"
   ]
  },
  {
   "cell_type": "markdown",
   "metadata": {},
   "source": [
    "## Aproksimacija s klasično metodo najmanjših kvadratov (MNK) / <font color = \"gray\">Classic least squares method (LSM) approximation</font> \n",
    "<p1>\n",
    "Kadar nas zanimajo gradienti spremenjivke $f$ po domeni uporabimo aproksimacijo z metodo najmanjših kvadratov. Pri tej metodi je izbira števila funkcij v baznem vektorju $\\psi$ poljubna. V splošnem velja, da z več funkcijami dobimo boljšo natančnost rešitve. Te funkcije so lahko polinomi ali katerekoli druge oblikovne funkcije. V tem prikazu smo zaradi enostavnosti izbrali polinomske oblikovne funkcije. Metoda najmanjših kvadratov je definirana z enačbo:\n",
    "\n",
    "$\\sum_{n=1}^{N} \\underline{\\psi}(\\textbf{p}_n)\\textbf{c}=\n",
    "\\sum_{n=1}^{N} \\psi(\\textbf{p}_n)f_n$;\n",
    "\n",
    "$\\psi_{ij} (\\textbf{p}_n)=\\psi_i(\\textbf{p}_n)\\psi_j(\\textbf{p}_n)$\n",
    "</p1>\n",
    "\n",
    "<p2><font color = \"gray\">\n",
    "When we are interested in gradients of variable $f$ throughout the domain, the interpolation is not an adequate approach. In such cases, the least squares approximation is used. The number of trial functions used in the method is arbitrary. In general, use of more trial functions leads to more precise solution. Trial functions can be polynomials or any other trial functions. In the demonstration, we have chosen polynomial trial functions for simplicity. The least squares method is defined by the equation:\n",
    "\n",
    "$\\sum_{n=1}^{N} \\underline{\\psi}(\\textbf{p}_n)\\textbf{c}=\n",
    "\\sum_{n=1}^{N} \\psi(\\textbf{p}_n)f_n$;\n",
    "\n",
    "$\\psi_{ij} (\\textbf{p}_n)=\\psi_i(\\textbf{p}_n)\\psi_j(\\textbf{p}_n)$\n",
    "    \n",
    "</font></p2>\n",
    "\n",
    "\n",
    "### Implementacija klasične MNK v kodi  / <font color = \"gray\">Implementation of classic LSM in code</font> "
   ]
  },
  {
   "cell_type": "code",
   "execution_count": null,
   "metadata": {
    "scrolled": false
   },
   "outputs": [],
   "source": [
    "def LSM(p,fi,order):\n",
    "    \"\"\"Pripravi aproksimacijsko funkcijo fun iz \"order\" oblikovnih funkcij (\"order\" <= 14).\n",
    "    Metoda: klasičen MNK\n",
    "    Argumenti: matrika točk: p, matrika vrednosti: fi in število oblikovnih funkcij: order / \n",
    "    Builds aproximation function fun from \"order\" trial function (\"order\" <= 14)\n",
    "    Method: classic LSM\n",
    "    Arguments: matrix of points: p, matrix of values: fi and number of trial functions: order \"\"\"\n",
    "    #bazni vektor z oblikovnimi funkcijami / base vector with trial functions\n",
    "    apr_fun = lambda x: np.asarray([1,x,x**2,x**3,x**4,x**5,x**6,x**7,x**8,x**9,x**10,x**11,x**12,x**13,x**14][:order+1])\n",
    "    i = 0\n",
    "    A = np.zeros([order+1, order+1]) #inic. matrike koeff / init. - matrix of coeff\n",
    "    b = np.zeros(order+1) #inic. vektorja konstant / init. - vector of constants\n",
    "    while i < len(p): #gradnja sistema enačb / building system of equations\n",
    "        Fi_p = np.outer(apr_fun(p[i]), apr_fun(p[i]))\n",
    "        \n",
    "        Fi_f = apr_fun(p[i]) * fi[0,i]\n",
    "        \n",
    "        A += Fi_p\n",
    "        b += Fi_f\n",
    "        i += 1\n",
    "    c = np.linalg.solve(A,b) #reševanje sistema - dobimo vektor koeficientov c / solving of system - we get vector of coeff. c\n",
    "    Cselect= np.append(c,np.zeros(15-len(c))) #filter c do reda 14 / filter c to order 14\n",
    "    #definicija aproksimirane funkcije / definition of aproximated function\n",
    "    def fun(o):\n",
    "        return Cselect[0] + Cselect[1]*o + \\\n",
    "        Cselect[2]*o**2 + Cselect[3]*o**3 + \\\n",
    "            Cselect[4]*o**4 + Cselect[5]*o**5 + \\\n",
    "                Cselect[6]*o**6 + Cselect[7]*o**7 + \\\n",
    "                    Cselect[8]*o**8 + Cselect[9]*o**9 + \\\n",
    "                        Cselect[10]*o**10+Cselect[11]*o**11+ \\\n",
    "                            Cselect[12]*o**12 + Cselect[13]*o**13 +\\\n",
    "                                Cselect[14]*o**14\n",
    "    return fun"
   ]
  },
  {
   "cell_type": "code",
   "execution_count": null,
   "metadata": {
    "scrolled": false
   },
   "outputs": [],
   "source": [
    "#izris rezultatov / plotting the results\n",
    "\n",
    "def plotting_LSM(fun, fn, pn, order1, order2):\n",
    "    %matplotlib inline\n",
    "    x_points = np.linspace(0.5,9,1000)\n",
    "    f1 = LSM(pn, fn, order1)\n",
    "    f2 = LSM(pn, fn, order2)\n",
    "    fig = plt.figure(2)\n",
    "    g1, = plt.plot(x_points,f1(x_points),\"-g\",label = f'{order1} trial functions')\n",
    "    g2, = plt.plot(x_points,f2(x_points),\"-b\",label = f'{order2} trial functions')\n",
    "    g3, = plt.plot(pn,fn[0], \"o\",color='purple', label = \"referenčne točke p_n /\\nreference points p_n\")\n",
    "\n",
    "    plt.legend(handles = [g1,g2,g3],\n",
    "           title='Aproksimacija z MNK /\\nAproximation with LSM',\n",
    "           bbox_to_anchor=(1.05, 1), loc='upper left')\n",
    "    \n",
    "interact(plotting_LSM,\n",
    "         fun = fixed(LSM),\n",
    "         pn = fixed(pn),\n",
    "         fn = fixed(fn),\n",
    "         order1 = widgets.IntSlider(\n",
    "             min=0,\n",
    "             max=14,\n",
    "             value=0,\n",
    "             description=\"Število oblikovnih funkcij (prva krivulja) / Number of trial functions (first curve)\"),\n",
    "         order2 = widgets.IntSlider(\n",
    "             min=0,\n",
    "             max=14,\n",
    "             value=1,\n",
    "             description=\"Število oblikovnih funkcij (druga krivulja) / Number of trial functions (second curve)\")\n",
    "        )\n"
   ]
  },
  {
   "cell_type": "markdown",
   "metadata": {},
   "source": [
    "## Aproksimacija z metodo uteženih najmanjših kvadratov  / <font color = \"gray\">Weighted least squares approximation</font> \n",
    "<p1>\n",
    "Kadar narava pojava veleva, da ima vrednost spremenljivke $f$ v določeni točki $\\overline{\\textbf p}$ še posebno velik vpliv na celotno fiziko, uporabimo metodo uteženih najmanjših kvadratov. Metoda je definirana z enačbo:\n",
    "\n",
    "$\\sum_{n=1}^{N} \\theta (d_n) \\underline{\\psi}(\\textbf{p}_n)\\textbf{c}(\\textbf{p})=\n",
    "\\sum_{n=1}^{N} \\theta (d_n) \\psi(\\textbf{p}_n)f_n$; \n",
    "\n",
    "$\\psi_ij (\\textbf{p}_n)=\\psi_i(\\textbf{p}_n)\\psi_j(\\textbf{p}_n)$.\n",
    "\n",
    "Vpliv vrednosti $f$ v $\\overline{\\textbf p}$ je ovrednoten z utežjo $\\theta$, ki je v našem primeru definirana z enačbo:\n",
    "\n",
    "$\\theta = e^\\frac{-d^2}{4}$\n",
    "\n",
    "\n",
    "<p2></p2>\n",
    "    \n",
    "<p3>\n",
    "<font color = \"gray\">\n",
    "When the value of the variable $f$ in certain point $\\overline{\\textbf p}$ has strong impact on the physics of the phenomena, we use weighted least squares approximation. The method is defined by equation:\n",
    "\n",
    "$\\sum_{n=1}^{N} \\theta (d_n) \\underline{\\psi}(\\textbf{p}_n)\\textbf{c}(\\textbf{p})=\n",
    "\\sum_{n=1}^{N} \\theta (d_n) \\psi(\\textbf{p}_n)f_n$; \n",
    "\n",
    "$\\psi_ij (\\textbf{p}_n)=\\psi_i(\\textbf{p}_n)\\psi_j(\\textbf{p}_n)$.\n",
    "    \n",
    "The impact of the value of $f$ in point $\\overline{\\textbf p}$ is evaluated by weight function $\\theta$, that is defined by equation:\n",
    "\n",
    "$\\theta = e^\\frac{-d^2}{4}$\n",
    "\n",
    "and only depends on distance $d = |\\textbf{p}-\\textbf {p}|$.\n",
    "\n",
    "</font></p3>\n",
    "    \n",
    "### Implementacija utežene MNK v kodi  / <font color = \"gray\">Implementation of weighted LSM in code</font> "
   ]
  },
  {
   "cell_type": "code",
   "execution_count": null,
   "metadata": {
    "scrolled": false
   },
   "outputs": [],
   "source": [
    "def w_LSM(p,fi, pW, order):\n",
    "    \"\"\"Pripravi aproksimacijsko funkcijo fun iz \"order\" oblikovnih funkcij (\"order\" <= 14).\n",
    "    Metoda: utežena MNK\n",
    "    Argumenti: vektor točk: p, matrika vrednosti: fi, položaj utežne točke: pW\n",
    "    in število oblikovnih funkcij: order /\n",
    "    Builds approximation function fun from \"order\" trial function (\"order\" <= 14)\n",
    "    Method: weighted LSM\n",
    "    Arguments: matrix of points: p, matrix of values: fi, position of weight point: pW\n",
    "    and number of trial functions: order \"\"\"\n",
    "    #bazni vektor z oblikovnimi funkcijami / base vector with trial functions\n",
    "    apr_fun = lambda x: np.asarray([1,x,x**2,x**3,x**4,x**5,x**6,x**7,x**8,x**9,x**10][:order+1])\n",
    "    i = 0\n",
    "    A = np.zeros((order+1, order+1)) #inic. matrike koeff / init. - matrix of coeff\n",
    "    b = np.zeros(order+1) #inic. vektorja konstant / init. - vector of constants\n",
    "    while i < len(p): #gradnja sistema enačb / building the system of equations\n",
    "        d = np.absolute(p[i]-pW)\n",
    "        W = np.exp(-d**2/4) # Utežna funkcija / Weight function\n",
    "\n",
    "        Fi_p =np.outer(apr_fun(p[i]), apr_fun(p[i]))\n",
    "        \n",
    "        Fi_f = apr_fun(p[i]) * fi[0,i]\n",
    "        A += Fi_p * W\n",
    "        b += Fi_f * W\n",
    "        i += 1\n",
    "    c = np.linalg.solve(A,b) # reševanje sistema - dobimo vektor koeficientov c / solving of system - we get vector of coeff. c\n",
    "    Cselect= np.append(c,np.zeros(11-len(c))) # dopolni c do reda 11 / fill-in c up to order 11\n",
    "    # definicija aproksimirane funkcije / definition of the approximated function\n",
    "    def fun(o):\n",
    "        return Cselect[0] + Cselect[1]*o + \\\n",
    "        Cselect[2]*o**2 + Cselect[3]*o**3 + \\\n",
    "            Cselect[4]*o**4 + Cselect[5]*o**5 + \\\n",
    "                Cselect[6]*o**6 + Cselect[7]*o**7 + \\\n",
    "                    Cselect[8]*o**8 + Cselect[9]*o**9 + \\\n",
    "                        Cselect[10]*o**10\n",
    "    \n",
    "    return fun"
   ]
  },
  {
   "cell_type": "code",
   "execution_count": null,
   "metadata": {
    "scrolled": false
   },
   "outputs": [],
   "source": [
    "# izris rezultatov / plotting the results\n",
    "\n",
    "def plotting_w_LSM(fun, fn, pn, weight_curve_1,weight_curve_2, order1, order2):\n",
    "    %matplotlib inline\n",
    "    w1 = weight_curve_1\n",
    "    w2 = weight_curve_2\n",
    "    x_points = np.linspace(0.5, 9, 1000)\n",
    "    f1 = w_LSM(p=pn, fi=fn, pW=w1, order=order1)\n",
    "    f2 = w_LSM(p=pn, fi=fn, pW=w2, order=order2)\n",
    "    fig = plt.figure(2)\n",
    "    g1, = plt.plot(x_points,f1(x_points),\"-g\",label = f'{order1} trial functions\\nweight on point p = {w1}')\n",
    "    g2, = plt.plot(x_points,f2(x_points),\"-b\",label = f'{order2} trial functions\\nweight on point p = {w2}')\n",
    "    g3, = plt.plot(pn,fn[0], \"o\",color='purple', label = \"referenčne točke p_n /\\nreference points p_n\")\n",
    "\n",
    "    plt.legend(handles = [g1,g2,g3],\n",
    "           title='Aproksimacija z MNK /\\n Aproximation with LSM',\n",
    "           bbox_to_anchor=(1.05, 1), loc='upper left')\n",
    "    return\n",
    "    \n",
    "interact(plotting_w_LSM,\\\n",
    "         fun = fixed(w_LSM),\\\n",
    "         pn = fixed(pn),\\\n",
    "         fn = fixed(fn),\\\n",
    "         order1 = widgets.IntSlider(\\\n",
    "             min=0,\\\n",
    "             max=14,\\\n",
    "             value=2,\\\n",
    "             description=\"Število oblikovnih funkcij (prva krivulja) / Number of trial functions (first curve)\"),\\\n",
    "         order2 = widgets.IntSlider(\\\n",
    "             min=0,\\\n",
    "             max=14,\\\n",
    "             value=3,\\\n",
    "             description=\"Število oblikovnih funkcij (druga krivulja) / Number of trial functions (second curve)\"),\\\n",
    "         weight_curve_1 = pn,\\\n",
    "         weight_curve_2 = pn\\\n",
    "        )"
   ]
  },
  {
   "cell_type": "markdown",
   "metadata": {},
   "source": [
    "## Aproksimacija z metodo premičnih najmanjših kvadratov  / <font color = \"gray\">Moving least squares approximation</font> \n",
    "\n",
    "Kadar potrebujemo zelo natančno aproksimacijo spremenljivke $f$ po domeni uporabimo premično metodo najmanjših kvadratov. V tem primeru rešujemo enačbo\n",
    "\n",
    "$\\sum_{n=1}^{N} \\theta (d_n) \\underline{\\psi}(\\textbf{p}_n)\\textbf{c}(\\overline{\\textbf{p}})=\n",
    "\\sum_{n=1}^{N} \\theta (d_n) \\psi(\\textbf{p}_n)f_n$;\n",
    "\n",
    "$\\psi_ij (\\textbf{p}_n)=\\psi_i(\\textbf{p}_n)\\psi_j(\\textbf{p}_n)$\n",
    "\n",
    "za vsako točko, kjer računamo vrednost $f$. Pri tem je utež $\\theta$ definirana z razdaljo med točko z znano vrednostjo in točko v kateri rešujemo aproksimacijski problem $d = |\\textbf{p}-\\textbf {p}_n|$ preko utežne funkcije $\\theta= e^\\frac{-d^2}{4}$ (za ta prikaz).\n",
    "\n",
    "<p1></p1>\n",
    "\n",
    "<font color = \"gray\">\n",
    "If we want the most precise approximation, moving least squares method is used. In this case we are solving equation\n",
    "    \n",
    "\n",
    "$\\sum_{n=1}^{N} \\theta (d_n) \\underline{\\psi}(\\textbf{p}_n)\\textbf{c}(\\overline{\\textbf{p}})=\n",
    "\\sum_{n=1}^{N} \\theta (d_n) \\psi(\\textbf{p}_n)f_n$;\n",
    "\n",
    "$\\psi_ij (\\textbf{p}_n)=\\psi_i(\\textbf{p}_n)\\psi_j(\\textbf{p}_n)$\n",
    "\n",
    "for each point, where the value of $f$ is being approximated. Weight $\\theta$ depends on the distance  $d = |\\textbf{p}-\\textbf {p}_n|$ between the point with known value of $f$ and the point, where approximation is performed. In this demonstration weight function $\\theta= e^\\frac{-d^2}{4}$ is used.\n",
    "</font>\n",
    "\n",
    "\n",
    "### Implementacija premične MPK v kodi  / <font color = \"gray\">Implementation of moving LSM in code</font> "
   ]
  },
  {
   "cell_type": "code",
   "execution_count": null,
   "metadata": {
    "scrolled": false
   },
   "outputs": [],
   "source": [
    "def movingLSM(pn,fi, p,order):\n",
    "    \"\"\"Vrne aproksimirano vrednost v točki p, na podlagi znanih vrednosti fn v točkah pn in \"order\" oblikovnih funkcij (\"order\" <= 14).\n",
    "    Metoda: premična MNK\n",
    "    Argumenti: matrika točk: pn, matrika vrednopsti: fi, položaj  točke: p, kjer vrednost iščemo \n",
    "    in število oblikovnih funkcij: order /\n",
    "    Returns aproximated value in point p, based on known values fn in points pn and \"order\" trial functions (\"order\" <= 14).\n",
    "    Method: moving LSM\n",
    "    Arguments: matrix of points: pn, matrix of values: fi, position of weight point: p, where we aproximate value\n",
    "    and number of trial functions: order \n",
    "    \"\"\"\n",
    "    #bazni vektor z oblikovnimi funkcijami / base vector with trial functions\n",
    "    apr_fun = lambda x: np.asarray([1,x,x**2,x**3,x**4,x**5,x**6,x**7,x**8,x**9,x**10][:order+1])\n",
    "    i = 0 \n",
    "    A = np.zeros((order+1, order+1)) #inic. matrike koeff / init. - matrix of coeff\n",
    "    b = np.zeros(order+1) #inic. vektorja konstant / init. - vector of constants\n",
    "    while i < len(pn): #gradnja sistema enačb / buildng system of equations\n",
    "        d = pn[i]-p\n",
    "        W = np.exp(-d**2/4) #Funkcija uteži\n",
    "        Fi_pn = np.outer(apr_fun(pn[i]), apr_fun(pn[i]))\n",
    "\n",
    "        Fi_f = apr_fun(pn[i]) * fi[0,i]\n",
    "        A += Fi_pn * W\n",
    "        b += Fi_f * W\n",
    "        i += 1\n",
    "    c = np.linalg.solve(A,b)#reševanje sistema - dobimo vektor koeficientov c / solving of system - we get vector of coeff. c\n",
    "    Cselect= np.append(c,np.zeros(11-len(c))) #filter c do reda 14 / filter c to order 14\n",
    "    #izračun aproksimirane vrednosti v p / calculation of aproximated value in p\n",
    "    aprox_value = Cselect[0] + Cselect[1]*p + \\\n",
    "        Cselect[2]*p**2 + Cselect[3]*p**3 + \\\n",
    "            Cselect[4]*p**4 + Cselect[5]*p**5 + \\\n",
    "                Cselect[6]*p**6 + Cselect[7]*p**7 + \\\n",
    "                    Cselect[8]*p**8 + Cselect[9]*p**9 + \\\n",
    "                        Cselect[10]*p**10\n",
    "    return aprox_value"
   ]
  },
  {
   "cell_type": "code",
   "execution_count": null,
   "metadata": {
    "scrolled": false
   },
   "outputs": [],
   "source": [
    "#izris rezultatov / plotting the results\n",
    "\n",
    "def plotting_m_LSM(fun, fn, pn, order1, order2):\n",
    "    x_points = np.linspace(0.5,9,100)\n",
    "    y1=[]\n",
    "    y2=[]\n",
    "    for i in x_points:\n",
    "        y1.append(movingLSM(pn,fn, i, order1))\n",
    "        y2.append(movingLSM(pn,fn, i, order2))\n",
    "    y1 = np.array(y1)\n",
    "    y2 = np.array(y2)\n",
    "    fig = plt.figure(3)\n",
    "    g1, = plt.plot(x_points,y1,\"-g\",label = f'{order1} trial functions')\n",
    "    g2, = plt.plot(x_points,y2,\"-b\",label = f'{order2} trial functions')\n",
    "    g3, = plt.plot(pn,fn[0], \"o\",color='purple', label = \"referenčne točke p_n /\\nreference points p_n\")\n",
    "\n",
    "    plt.legend(handles = [g1,g2,g3],\n",
    "           title='Aproksimacija z premično MNK /\\nAproximation with moving LSM',\n",
    "           bbox_to_anchor=(1.05, 1), loc='upper left')\n",
    "\n",
    "    \n",
    "interact(plotting_m_LSM,\n",
    "         fun = fixed(movingLSM),\n",
    "         pn = fixed(pn),\n",
    "         fn = fixed(fn),\n",
    "         order1 = widgets.IntSlider(\n",
    "             min=0,\n",
    "             max=14,\n",
    "             value=0,\n",
    "             description=\"Število oblikovnih funkcij (prva krivulja) / Number of trial functions (first curve)\"),\n",
    "         order2 = widgets.IntSlider(\n",
    "             min=0,\n",
    "             max=14,\n",
    "             value=1,\n",
    "             description=\"Število oblikovnih funkcij (druga krivulja) / Number of trial functions (second curve)\")\n",
    "        )"
   ]
  },
  {
   "cell_type": "markdown",
   "metadata": {},
   "source": [
    "## Prikaz aproksimacije z MNK v 2D  / <font color = \"gray\">Demonstration of approximation with LSM in 2D</font> \n",
    "\n",
    "Aproksimiramo s šestimi oblikovni funkcijami. / <font color = 'gray'> We approximate with 6 trial functions. </font>\n",
    "\n",
    "$\\psi=(1,x,y,x^2,x y, y^2)$"
   ]
  },
  {
   "cell_type": "code",
   "execution_count": null,
   "metadata": {
    "scrolled": false
   },
   "outputs": [],
   "source": [
    "def apr_fun2D(p):\n",
    "    \"\"\"Aproksimacija kvadratne funkcije v 2D, argument 2D vektor polozaja p[x,y]\"\"\"\n",
    "    return np.array([[1, p[0], p[1], p[0]**2, p[0]*p[1], p[1]**2]])"
   ]
  },
  {
   "cell_type": "markdown",
   "metadata": {},
   "source": [
    "## Seznam točk z znanimi vrednostmi $f$  / <font color = \"gray\">List of points with known values of $f$</font> "
   ]
  },
  {
   "cell_type": "code",
   "execution_count": null,
   "metadata": {
    "scrolled": false
   },
   "outputs": [],
   "source": [
    "p = np.asarray([[1,1],[1,-1],[-1,1],[-1,-1],[0,0],[1,0],[-1,0],[0,1],[0,-1]])\n",
    "fi1 = np.asarray([[1,-1,0,0,1,0,-1,-1,+1]]) \n",
    "fi2 = np.asarray([[+1,-0.5,1,1,-1,0,0,0,0]])"
   ]
  },
  {
   "cell_type": "markdown",
   "metadata": {},
   "source": [
    "## Implementacija klasične MNK v 2D / <font color = \"gray\"> Implementation of classic LSM in 2D</font>"
   ]
  },
  {
   "cell_type": "code",
   "execution_count": null,
   "metadata": {
    "scrolled": false
   },
   "outputs": [],
   "source": [
    "def LSM_2D(apr_fun,p,fi):\n",
    "    \"\"\"Pripravi aproksimacijsko funkcijo fun iz 5 oblikovnih funkcij.\n",
    "    Metoda: klasičen MNK 2D\n",
    "    Argumenti: matrika točk: p, matrika vrednosti: fi / \n",
    "    Builds aproximation function fun from 5 trial function.\n",
    "    Method: classic LSM 2D\n",
    "    Arguments: matrix of points: p, matrix of values: fi \"\"\"\n",
    "    i = 0\n",
    "    A = np.zeros((len(apr_fun(p[0])[0]),len(apr_fun(p[0])[0]))) #inic. matrike koeff / init. - matrix of coeff\n",
    "    b = np.zeros(len(apr_fun(p[0])[0])) #inic. vektorja konstant / init. - vector of constants\n",
    "    while i < len(p[:,0]):#gradnja sistema enačb / buildng system of equations\n",
    "        Fi_p = apr_fun(p[i]) * apr_fun(p[i]).T\n",
    "        Fi_f = apr_fun(p[i]) * fi[0,i]\n",
    "        A += Fi_p\n",
    "        b += Fi_f[0]\n",
    "        i += 1\n",
    "    c = np.linalg.solve(A,b) #reševanje sistema - dobimo vektor koeficientov c / solving of system - we get vector of coeff. c\n",
    "    return c"
   ]
  },
  {
   "cell_type": "markdown",
   "metadata": {},
   "source": [
    "Izris rezultatov na 3D grafu / <font color = 'gray'>Ploting the results on 3D plot</font>"
   ]
  },
  {
   "cell_type": "code",
   "execution_count": null,
   "metadata": {
    "scrolled": false
   },
   "outputs": [],
   "source": [
    "c = LSM_2D(apr_fun2D, p, fi1)\n",
    "f = lambda x, y: c[0] + c[1]*x + c[2]*y + c[3]*x**2 + c[4]*x*y + c[5]*y**2\n",
    "x_points = np.linspace(-1,1,num=100)\n",
    "y_points = np.linspace(-1,1,num=100)\n",
    "X,Y = np.meshgrid(x_points, y_points)\n",
    "Z = f(X,Y)\n",
    "x_ref = p[:,0]\n",
    "y_ref = p[:,1]\n",
    "f_ref = fi1[0]"
   ]
  },
  {
   "cell_type": "code",
   "execution_count": null,
   "metadata": {
    "scrolled": false
   },
   "outputs": [],
   "source": [
    "%matplotlib notebook\n",
    "fig = plt.figure(1,figsize=(6,6))\n",
    "ax = plt.axes(projection='3d')\n",
    "ax.plot_wireframe(X, Y, Z, color='red')\n",
    "ax.set_title('Aproksimirana funkcija z referenčnimi točkami');\n",
    "#Referencne točke / reference points\n",
    "ax.scatter3D(x_ref, y_ref, f_ref,color=\"black\");\n",
    "ax.set_xlabel('px')\n",
    "ax.set_ylabel('py')\n",
    "ax.set_zlabel('fi');"
   ]
  },
  {
   "cell_type": "markdown",
   "metadata": {},
   "source": [
    "Izris rezultatov na presečne ravnine / <font color = 'gray'>Ploting the results on section planes</font>"
   ]
  },
  {
   "cell_type": "code",
   "execution_count": null,
   "metadata": {
    "scrolled": true
   },
   "outputs": [],
   "source": [
    "%matplotlib inline\n",
    "fi = fi1[0]\n",
    "fig2 = plt.figure(2)\n",
    "g1, = plt.plot(x_points,f(x_points,0),\"-b\",label = \"y=0\")\n",
    "g2, = plt.plot(x_points,f(x_points,1),\"-b\",label = \"y=1\")\n",
    "g3, = plt.plot(x_points,f(x_points,-1),\"-.b\",label = \"y=-1\")\n",
    "g4, = plt.plot(p[:,0],fi, \"ob\",label = \"referenčne x točke\")\n",
    "g5, = plt.plot(y_points,f(0,y_points),\"-g\",label = \"x=0\")\n",
    "g6, = plt.plot(y_points,f(1,y_points),\"--g\",label = \"x=1\")\n",
    "g7, = plt.plot(y_points,f(-1,y_points),\"-.\",label = \"x=-1\")\n",
    "g8, = plt.plot(p[:,1],fi,\"og\", label = \"referenčne y točke\")\n",
    "plt.legend(handles=[g1,g2,g3,g4,g5,g6,g7,g8], title='Aproksimacijske krivulje', bbox_to_anchor=(1.05, 1), loc='upper left')\n",
    "plt.xlabel('px ali py')\n",
    "plt.ylabel('fi');"
   ]
  },
  {
   "cell_type": "markdown",
   "metadata": {},
   "source": [
    "## Implementacija utežene MNK v 2D / <font color = \"gray\"> Implementation of weighted LSM in 2D</font> "
   ]
  },
  {
   "cell_type": "code",
   "execution_count": null,
   "metadata": {
    "scrolled": false
   },
   "outputs": [],
   "source": [
    "def w_LSM_2D(apr_fun,p,fi, pW):\n",
    "    \"\"\"Pripravi aproksimacijsko funkcijo fun iz 5 oblikovnih funkcij.\n",
    "    Metoda: utežena MNK 2D\n",
    "    Argumenti: vektor točk: p, matrika vrednosti: fi, položaj utežne točke: pW /\n",
    "    Builds aproximation function fun from 5 trial function.\n",
    "    Method: weighted LSM 2D\n",
    "    Arguments: matrix of points: p, matrix of values: fi, position of weight point: pW \"\"\"\n",
    "    i = 0\n",
    "    A = np.zeros((len(apr_fun(p[0])[0]),len(apr_fun(p[0])[0]))) #inic. matrike koeff / init. - matrix of coeff\n",
    "    b = np.zeros(len(apr_fun(p[0])[0])) #inic. vektorja konstant / init. - vector of constants\n",
    "    while i < len(p[:,0]): #gradnja sistema enačb / buildng system of equations\n",
    "        d = ((p[i,0]-pW[0])**2+(p[i,1]-pW[1])**2)**0.5\n",
    "        W = np.exp(-d**2/4) #Funkcija uteži / weight function\n",
    "        Fi_p = apr_fun(p[i]) * apr_fun(p[i]).T\n",
    "        Fi_f = apr_fun(p[i]) * fi[0,i]\n",
    "        A += Fi_p * W\n",
    "        b += Fi_f[0] * W\n",
    "        i += 1\n",
    "    c = np.linalg.solve(A,b) #reševanje sistema - dobimo vektor koeficientov c / solving of system - we get vector of coeff. c\n",
    "    return c"
   ]
  },
  {
   "cell_type": "markdown",
   "metadata": {},
   "source": [
    "Utež postavimo na točko $(1,-1)$. / <font color = 'gray'>The weight is set at point (1,-1)</font>"
   ]
  },
  {
   "cell_type": "code",
   "execution_count": null,
   "metadata": {
    "scrolled": false
   },
   "outputs": [],
   "source": [
    "pW = np.asarray([1,-1])"
   ]
  },
  {
   "cell_type": "markdown",
   "metadata": {},
   "source": [
    "Izris rezultatov na 3D grafu / <font color = 'gray'>Ploting the results on 3D plot</font>"
   ]
  },
  {
   "cell_type": "code",
   "execution_count": null,
   "metadata": {
    "scrolled": false
   },
   "outputs": [],
   "source": [
    "c = w_LSM_2D(apr_fun2D, p, fi1, pW)\n",
    "f = lambda x, y: c[0] + c[1]*x + c[2]*y + c[3]*x**2 + c[4]*x*y + c[5]*y**2\n",
    "\n",
    "x_points = np.linspace(-1,1,num=100)\n",
    "y_points = np.linspace(-1,1,num=100)\n",
    "X,Y = np.meshgrid(x_points, y_points)\n",
    "Z = f(X,Y)\n",
    "\n",
    "x_ref = p[:,0]\n",
    "y_ref = p[:,1]\n",
    "f_ref = fi1[0]"
   ]
  },
  {
   "cell_type": "code",
   "execution_count": null,
   "metadata": {
    "scrolled": false
   },
   "outputs": [],
   "source": [
    "%matplotlib notebook\n",
    "fig = plt.figure(figsize=(6,6))\n",
    "ax = plt.axes(projection='3d')\n",
    "ax.plot_wireframe(X, Y, Z, color='red')\n",
    "ax.set_title('Aproksimirana funkcija z referenčnimi točkami');\n",
    "#Referencne točke / reference points\n",
    "ax.scatter3D(x_ref, y_ref, f_ref,color=\"black\");\n",
    "ax.scatter3D([pW[0]],[pW[1]],[-2], color=\"green\", linewidth=10);\n",
    "\n",
    "ax.set_xlabel('px')\n",
    "ax.set_ylabel('py')\n",
    "ax.set_zlabel('fi');"
   ]
  },
  {
   "cell_type": "markdown",
   "metadata": {},
   "source": [
    "Izris rezultatov na presečne ravnine / <font color = 'gray'>Ploting the results on section planes</font>"
   ]
  },
  {
   "cell_type": "code",
   "execution_count": null,
   "metadata": {
    "scrolled": false
   },
   "outputs": [],
   "source": [
    "%matplotlib inline\n",
    "fi = fi1[0]\n",
    "fig2 = plt.figure()\n",
    "g1, = plt.plot(x_points,f(x_points,0),\"-b\",label = \"y=0\")\n",
    "g2, = plt.plot(x_points,f(x_points,1),\"-b\",label = \"y=1\")\n",
    "g3, = plt.plot(x_points,f(x_points,-1),\"-.b\",label = \"y=-1\")\n",
    "g10, = plt.plot(pW[0],[0],\"o\", label = \"Utežna točka X\\ny=0\", markersize=10, color = 'pink')\n",
    "g4, = plt.plot(p[:,0],fi, \"ob\",label = \"referenčne x točke\")\n",
    "g5, = plt.plot(y_points,f(0,y_points),\"-g\",label = \"x=0\")\n",
    "g6, = plt.plot(y_points,f(1,y_points),\"--g\",label = \"x=1\")\n",
    "g7, = plt.plot(y_points,f(-1,y_points),\"-.\",label = \"x=-1\")\n",
    "g9, = plt.plot(pW[1],[0],\"o\", label = \"Utežna točka Y\\n(x=0)\", markersize=10, color = 'purple')\n",
    "g8, = plt.plot(p[:,1],fi,\"og\", label = \"referenčne y točke\")\n",
    "plt.xlabel('px ali py')\n",
    "plt.ylabel('fi')\n",
    "l=plt.legend(handles=[g1,g2,g3,g4,g10,g5,g6,g7,g8,g9], title='Aproksimacijske krivulje',\n",
    "             bbox_to_anchor=(1.05, 1), loc='upper left')\n"
   ]
  },
  {
   "cell_type": "markdown",
   "metadata": {},
   "source": [
    "## Implementacija premične MNK v 2D / <font color = \"gray\">Implementation of moving LSM in 2D</font>"
   ]
  },
  {
   "cell_type": "code",
   "execution_count": null,
   "metadata": {
    "scrolled": false
   },
   "outputs": [],
   "source": [
    "def movingLSM_2D(apr_fun,pn,fi, p):\n",
    "    \"\"\"Vrne aproksimirano vrednost v točki p, na podlagi znanih vrednosti fn v točkah pn in 5 oblikovnih funkcij.\n",
    "    Metoda: premična MNK 2D\n",
    "    Argumenti: matrika točk: pn, matrika vrednopsti: fi, položaj  točke: p, kjer vrednost iščemo /\n",
    "    Returns aproximated value in point p, based on known values fn in points pn and 5 trial functions.\n",
    "    Method: moving LSM 2D\n",
    "    Arguments: matrix of points: pn, matrix of values: fi, position of weight point: p, where we aproximate value\"\"\"\n",
    "    i = 0\n",
    "    A = np.zeros((len(apr_fun(pn[0])[0]),len(apr_fun(pn[0])[0]))) #inic. matrike koeff / init. - matrix of coeff\n",
    "    b = np.zeros(len(apr_fun(pn[0])[0])) #inic. vektorja konstant / init. - vector of constants\n",
    "    while i < len(pn[:,0]): #gradnja sistema enačb / buildng system of equations\n",
    "        d = ((pn[i,0]-p[0])**2+(pn[i,1]-p[1])**2)**0.5\n",
    "        W = np.exp(-d**2/4) #Funkcija uteži / weight function\n",
    "        Fi_pn = apr_fun(pn[i]) * apr_fun(pn[i]).T\n",
    "        Fi_f = apr_fun(pn[i]) * fi[0,i]\n",
    "        A += Fi_pn * W\n",
    "        b += Fi_f[0] * W\n",
    "        i += 1\n",
    "    c = np.linalg.solve(A,b) #reševanje sistema - dobimo vektor koeficientov c / solving of system - we get vector of coeff. c\n",
    "    #izračun aproksimirane vrednosti v p / cal. of aproximated walue in p\n",
    "    aprox_value = c[0] + c[1]*p[0] + c[2]*p[1] + c[3]*p[0]**2 + c[4]*p[0]*p[1] + c[5]*p[1]**2\n",
    "    return aprox_value"
   ]
  },
  {
   "cell_type": "markdown",
   "metadata": {},
   "source": [
    "Izris rezultatov na 3D grafu / <font color = 'gray'>Ploting the results on 3D plot</font>"
   ]
  },
  {
   "cell_type": "code",
   "execution_count": null,
   "metadata": {
    "scrolled": false
   },
   "outputs": [],
   "source": [
    "#Risanje grafa\n",
    "min_border = -1\n",
    "max_border = 1\n",
    "num_points = 100\n",
    "x_points = np.linspace(min_border,max_border,num=num_points)\n",
    "\n",
    "X,Y = np.meshgrid(x_points, x_points)\n",
    "\n",
    "Z = np.ones(np.shape(X))                                               \n",
    "                                                   \n",
    "for i in range(np.shape(X)[0]):\n",
    "     for k in range(np.shape(X)[0]):\n",
    "         Z[i,k] =  movingLSM_2D(apr_fun=apr_fun2D, pn = p, fi = fi1, p = np.asarray([X[i,k],Y[i,k]]))\n",
    "\n",
    "x_ref = p[:,0]\n",
    "y_ref = p[:,1]\n",
    "f_ref = fi1[0]"
   ]
  },
  {
   "cell_type": "code",
   "execution_count": null,
   "metadata": {
    "scrolled": false
   },
   "outputs": [],
   "source": [
    "%matplotlib notebook\n",
    "fig = plt.figure(50,figsize=(6,6))\n",
    "ax = plt.axes(projection='3d')\n",
    "ax.plot_wireframe(X, Y, Z, color='red')\n",
    "ax.set_title('Aproksimirana funkcija z referenčnimi točkami');\n",
    "#Referencne točke\n",
    "ax.scatter3D(x_ref, y_ref, f_ref,color=\"black\");\n",
    "#ax.scatter3D([pW[0]],[pW[1]],[-2], color=\"green\", linewidth=10);\n",
    "\n",
    "ax.set_xlabel('px')\n",
    "ax.set_ylabel('py')\n",
    "ax.set_zlabel('fi');"
   ]
  },
  {
   "cell_type": "code",
   "execution_count": null,
   "metadata": {
    "scrolled": false
   },
   "outputs": [],
   "source": []
  }
 ],
 "metadata": {
  "kernelspec": {
   "display_name": "Python 3",
   "language": "python",
   "name": "python3"
  },
  "language_info": {
   "codemirror_mode": {
    "name": "ipython",
    "version": 3
   },
   "file_extension": ".py",
   "mimetype": "text/x-python",
   "name": "python",
   "nbconvert_exporter": "python",
   "pygments_lexer": "ipython3",
   "version": "3.9.2"
  },
  "toc": {
   "base_numbering": 1,
   "nav_menu": {},
   "number_sections": true,
   "sideBar": true,
   "skip_h1_title": false,
   "title_cell": "Table of Contents",
   "title_sidebar": "Contents",
   "toc_cell": false,
   "toc_position": {},
   "toc_section_display": true,
   "toc_window_display": false
  }
 },
 "nbformat": 4,
 "nbformat_minor": 4
}
